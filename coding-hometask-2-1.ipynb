{
 "cells": [
  {
   "cell_type": "markdown",
   "metadata": {},
   "source": [
    "# Задание по курсу «Дискретная оптимизация», МФТИ, весна 2017"
   ]
  },
  {
   "cell_type": "markdown",
   "metadata": {},
   "source": [
    "## Задача 2-1. Применяем простейший локальный поиск.\n",
    "\n",
    "В этой задаче Вам предлагается попробовать стандартную технику локального поиска (local search) в применении к задаче о сбалансированном разбиении графа. Мы будем рассматривать безвесовый вариант задачи с параметром балансировки $\\alpha=\\frac{1}{2}$:\n",
    "\n",
    "**Даны:**\n",
    "* $G=(V,E)$ — граф без весов на рёбрах\n",
    "\n",
    "**Найти:**\n",
    "* Разбиение $V=V'\\sqcup V''$, такое, что $V'=\\lfloor |V|/2 \\rfloor$ и число рёбер между $V'$ и $V''$ минимально возможное.\n",
    "\n",
    "Сделайте следующее:\n",
    "* [Скачайте](http://mat.gsia.cmu.edu/COLOR/instances.html#XXMYC) файлы mycielX.col  (`for X in range(1,8)`).  (Если интересно, откуда такие графы берутся и чем интересны, см. конструкцию Зыкова—Мыцельского [здесь](https://docs.com/dainiak/3327).)\n",
    "* Для каждого из графов найдите локальным поиском локально минимальное (по количеству рёбер между частями) разбиение вершин графа на две части, мощности которых отличаются не более чем на единицу. \n",
    "* Ваша функция `basic_local_search` должна принимать на вход граф в формате, предоставляемом функцией `read_col_file`, и возвращать найденное локально минимальное разбиение просто как множество либо список вершин, лежащих в одной любой из двух компонент разбиения."
   ]
  },
  {
   "cell_type": "code",
   "execution_count": 421,
   "metadata": {
    "collapsed": true
   },
   "outputs": [],
   "source": [
    "import random"
   ]
  },
  {
   "cell_type": "code",
   "execution_count": 422,
   "metadata": {
    "collapsed": true
   },
   "outputs": [],
   "source": [
    "def read_col_file(filename):\n",
    "    with open(filename, 'r') as file:\n",
    "        vertices, edges = set(), set()\n",
    "        for line in file:\n",
    "            line = line.strip()\n",
    "            if line.startswith('p'):\n",
    "                vertices = set(range(1, int(line.split()[-2]) + 1))\n",
    "            elif line.startswith('e'):\n",
    "                edges.add(tuple(map(int, line.split()[-2:])))\n",
    "        return (vertices, edges)"
   ]
  },
  {
   "cell_type": "code",
   "execution_count": 423,
   "metadata": {
    "collapsed": false
   },
   "outputs": [],
   "source": [
    "def partitionLocality(V1, V):\n",
    "    local = []\n",
    "\n",
    "    for x in V1:\n",
    "        for y in V - V1:\n",
    "            tmp = set(V1)\n",
    "            tmp.remove(x)\n",
    "            tmp.add(y)\n",
    "            local += [tmp]\n",
    "            \n",
    "    return local"
   ]
  },
  {
   "cell_type": "code",
   "execution_count": 427,
   "metadata": {
    "collapsed": false
   },
   "outputs": [],
   "source": [
    "def edgeCount(V1, E):\n",
    "    c = 0\n",
    "    \n",
    "    for e in E:\n",
    "        if not ((e[0] in V1) == (e[1] in V1)):     \n",
    "            c += 1\n",
    "            \n",
    "    return c"
   ]
  },
  {
   "cell_type": "code",
   "execution_count": 428,
   "metadata": {
    "collapsed": true
   },
   "outputs": [],
   "source": [
    "def basic_local_search(graph):\n",
    "    \n",
    "    V1 = set(random.sample(graph[0], len(graph[0]) // 2))\n",
    "    \n",
    "    while 1:\n",
    "        tmp = V1\n",
    "        c = edgeCount(V1, graph[1])\n",
    "        \n",
    "        for V2 in partitionLocality(V1, graph[0]):\n",
    "            if edgeCount(V2, graph[1]) < c:\n",
    "                c = edgeCount(V2, graph[1])\n",
    "                tmp = V2\n",
    "\n",
    "\n",
    "        if tmp == V1:\n",
    "            return V1\n",
    "        \n",
    "        V1 = tmp"
   ]
  },
  {
   "cell_type": "code",
   "execution_count": 429,
   "metadata": {
    "collapsed": false
   },
   "outputs": [
    {
     "name": "stdout",
     "output_type": "stream",
     "text": [
      "3:  {10, 3, 4, 5, 6}\n",
      "4:  {2, 4, 6, 8, 10, 11, 16, 17, 19, 21, 22}\n",
      "5:  {3, 4, 5, 6, 8, 9, 11, 13, 15, 16, 19, 20, 22, 24, 28, 29, 31, 32, 33, 36, 39, 44, 46}\n",
      "6:  {1, 5, 6, 10, 13, 15, 16, 18, 20, 21, 23, 26, 27, 29, 30, 31, 32, 33, 36, 37, 38, 40, 41, 42, 43, 44, 46, 47, 48, 50, 51, 52, 58, 60, 61, 62, 63, 69, 70, 73, 74, 83, 84, 85, 90, 93, 94}\n",
      "7:  {2, 4, 7, 10, 12, 13, 14, 15, 16, 17, 18, 19, 20, 21, 22, 24, 25, 28, 29, 30, 33, 34, 35, 36, 39, 40, 41, 44, 45, 46, 48, 50, 51, 53, 55, 58, 59, 61, 62, 64, 66, 69, 70, 71, 72, 73, 74, 75, 76, 80, 81, 82, 84, 86, 87, 92, 93, 97, 98, 99, 101, 102, 103, 104, 105, 108, 109, 110, 112, 113, 114, 115, 116, 118, 120, 123, 124, 125, 128, 141, 142, 143, 145, 146, 148, 150, 151, 153, 156, 165, 166, 168, 188, 189, 190}\n"
     ]
    }
   ],
   "source": [
    "graph = read_col_file('myciel3.col')\n",
    "print(\"3: \", basic_local_search(graph))\n",
    "\n",
    "graph = read_col_file('myciel4.col')\n",
    "print(\"4: \", basic_local_search(graph))\n",
    "\n",
    "graph = read_col_file('myciel5.col')\n",
    "print(\"5: \", basic_local_search(graph))\n",
    "\n",
    "graph = read_col_file('myciel6.col')\n",
    "print(\"6: \", basic_local_search(graph))\n",
    "\n",
    "graph = read_col_file('myciel7.col')\n",
    "print(\"7: \", basic_local_search(graph))"
   ]
  },
  {
   "cell_type": "code",
   "execution_count": null,
   "metadata": {
    "collapsed": true
   },
   "outputs": [],
   "source": []
  }
 ],
 "metadata": {
  "anaconda-cloud": {},
  "kernelspec": {
   "display_name": "Python [default]",
   "language": "python",
   "name": "python3"
  },
  "language_info": {
   "codemirror_mode": {
    "name": "ipython",
    "version": 3
   },
   "file_extension": ".py",
   "mimetype": "text/x-python",
   "name": "python",
   "nbconvert_exporter": "python",
   "pygments_lexer": "ipython3",
   "version": "3.5.2"
  }
 },
 "nbformat": 4,
 "nbformat_minor": 2
}
