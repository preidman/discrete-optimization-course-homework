{
 "cells": [
  {
   "cell_type": "markdown",
   "metadata": {
    "deletable": true,
    "editable": true
   },
   "source": [
    "# Задание по курсу «Дискретная оптимизация», МФТИ, весна 2017"
   ]
  },
  {
   "cell_type": "markdown",
   "metadata": {
    "collapsed": true,
    "deletable": true,
    "editable": true
   },
   "source": [
    "## Задача 3-1. Задача TSP: инкрементальные алгоритмы.\n",
    "\n",
    "В этой задаче Вам предлагается сравнить алгоритмы Nearest Neighbour и Nearest Insertion в задаче Euclidean TSP.\n",
    "\n",
    "**Даны:**\n",
    "* Координаты точек плоскости, являющихся вершинами графа.\n",
    "\n",
    "**Найти:**\n",
    "* Перестановку вершин, задающих минимальный по длине гамильтонов цикл в графе.\n",
    "\n",
    "Сделайте следующее:\n",
    "* Скачайте файл [`tsp-instances.zip`](https://github.com/dainiak/discrete-optimization-course/raw/master/tsp-instances.zip) и разархивируйте из него файлы со входами задачи TSP.\n",
    "* Реализуйте функции `solve_tsp_nearest_neighbour` и `solve_tsp_nearest_insertion`.\n",
    "* Запустите функцию `run_all()`, чтобы протестировать свой код и сравнить качество решений, получаемых Nearest Neighbour и Nearest Insertion. Сильно ли они отличаются? Запишите свои качественные выводы в 1-2 предложениях в последней ячейке ipynb-файла."
   ]
  },
  {
   "cell_type": "code",
   "execution_count": 157,
   "metadata": {
    "collapsed": true,
    "deletable": true,
    "editable": true
   },
   "outputs": [],
   "source": [
    "def read_tsp_instance(filename):\n",
    "    with open(filename, 'r') as file:\n",
    "        coordinates = []\n",
    "        for line in file:\n",
    "            line = line.strip().lower()\n",
    "            if line.startswith('dimension'):\n",
    "                coordinates = [(0,0)] * int(line.split()[-1])\n",
    "            tokens = line.split()\n",
    "            if len(tokens) == 3 and tokens[0].isdecimal():\n",
    "                tokens = line.split()\n",
    "                coordinates[int(tokens[0])-1] = tuple(map(float, tokens[1:]))\n",
    "        return coordinates\n",
    "\n",
    "from math import sqrt\n",
    "\n",
    "def euclidean_distance(point1, point2):\n",
    "    return sqrt((point1[0]-point2[0]) ** 2 + (point1[1]-point2[1]) ** 2)\n",
    "\n",
    "def calculate_tour_length(instance, permutation):\n",
    "    n = len(permutation)\n",
    "    return sum(euclidean_distance(instance[permutation[i]], instance[permutation[(i+1) % n]]) for i in range(len(permutation)))"
   ]
  },
  {
   "cell_type": "code",
   "execution_count": 158,
   "metadata": {
    "collapsed": true
   },
   "outputs": [],
   "source": [
    "# a = open_v[], b = coord\n",
    "def closest(ar, b):\n",
    "    minim = euclidean_distance(ar[0], b)\n",
    "    min_x = ar[0]\n",
    "    for x in ar:\n",
    "        if (euclidean_distance(x, b) < minim):\n",
    "            minim = euclidean_distance(x, b)\n",
    "            min_x = x\n",
    "    return min_x        "
   ]
  },
  {
   "cell_type": "code",
   "execution_count": 159,
   "metadata": {
    "collapsed": false,
    "deletable": true,
    "editable": true
   },
   "outputs": [],
   "source": [
    "def solve_tsp_nearest_neighbour(instance):\n",
    "    \n",
    "    min_tsp_tour = []\n",
    "    open_v = list(instance)\n",
    "    N = len(instance)\n",
    "    \n",
    "    coord = open_v[N-1]\n",
    "    del open_v[N-1]\n",
    "    \n",
    "    min_tsp_tour += [instance.index(coord)]\n",
    "    \n",
    "    for i in range(N-1):\n",
    "        min_dist_coord = closest(open_v, coord)\n",
    "        \n",
    "        coord = min_dist_coord\n",
    "        \n",
    "        min_tsp_tour += [instance.index(min_dist_coord)]\n",
    "        \n",
    "        open_v.remove(min_dist_coord)\n",
    "    \n",
    "    # The return value is permutation of vertices that corresponds to a minimal TSP tour\n",
    "    return min_tsp_tour"
   ]
  },
  {
   "cell_type": "code",
   "execution_count": 160,
   "metadata": {
    "collapsed": false
   },
   "outputs": [],
   "source": [
    "def tour_closest(instance, open_v, tour):\n",
    "    \n",
    "    place_near_tour = 0\n",
    "    idx_near_tour = 0\n",
    "    \n",
    "    minim = 10 ** 5\n",
    "        \n",
    "    for idxe, cord in enumerate(tour[:-1]):            \n",
    "        for x in open_v:\n",
    "            d = euclidean_distance(instance[cord], instance[x])\n",
    "            d -= euclidean_distance(instance[cord], instance[tour[idxe + 1]])\n",
    "            d += euclidean_distance(instance[tour[idxe + 1]], instance[x])\n",
    "                \n",
    "            if (minim > d):\n",
    "                minim = d\n",
    "                idx_near_tour = x\n",
    "                place_near_tour = idxe\n",
    "        \n",
    "    return place_near_tour, idx_near_tour"
   ]
  },
  {
   "cell_type": "code",
   "execution_count": 161,
   "metadata": {
    "collapsed": true
   },
   "outputs": [],
   "source": [
    "# a = open_v[], b = 0\n",
    "def closest_idx(instance, ar, b):\n",
    "    \n",
    "    min_idx = ar[0]\n",
    "    minim = euclidean_distance(instance[min_idx], instance[b])\n",
    "    \n",
    "    for i in range(len(ar)):\n",
    "        if (euclidean_distance(instance[ar[i]], instance[b]) < minim):\n",
    "            minim = euclidean_distance(instance[ar[i]], instance[b])\n",
    "            min_idx = ar[i]\n",
    "            \n",
    "    return min_idx        "
   ]
  },
  {
   "cell_type": "code",
   "execution_count": 165,
   "metadata": {
    "collapsed": true,
    "deletable": true,
    "editable": true
   },
   "outputs": [],
   "source": [
    "def solve_tsp_nearest_insertion(instance):\n",
    "\n",
    "    N = len(instance)\n",
    "    open_v = [x for x in range(1, N)]\n",
    "    \n",
    "    # first tour\n",
    "    tour = [0, 0, 0]\n",
    "    tmp = closest_idx(instance, open_v, 0)\n",
    "    tour[1] = tmp\n",
    "    \n",
    "    del open_v[tmp-1]\n",
    "    \n",
    "    for i in range(N - 2):\n",
    "        place, idx = tour_closest(instance, open_v, tour)\n",
    "        \n",
    "        tour.insert(place + 1, idx)\n",
    "        \n",
    "        open_v.remove(idx)\n",
    "    \n",
    "    del tour[-1]\n",
    "    \n",
    "    # The return value is permutation of vertices that corresponds to a minimal TSP tour\n",
    "    return tour"
   ]
  },
  {
   "cell_type": "code",
   "execution_count": 168,
   "metadata": {
    "collapsed": false,
    "deletable": true,
    "editable": true
   },
   "outputs": [],
   "source": [
    "import time\n",
    "from os.path import exists\n",
    "\n",
    "def run_all():\n",
    "    instance_filenames = ['d198.tsp', 'd493.tsp', 'd657.tsp', 'pr107.tsp', 'pr152.tsp', 'pr439.tsp']\n",
    "    instance_filenames = ['tsp-instances/' + name for name in instance_filenames]\n",
    "    for filename in instance_filenames:\n",
    "        if not exists(filename):\n",
    "            print('File not found: “{}”. Skipping this instance.'.format(filename))\n",
    "            continue\n",
    "        instance = read_tsp_instance(filename)\n",
    "        print('Solving instance {}…'.format(filename), end='')\n",
    "        time_start = time.monotonic()\n",
    "        quality_nn = calculate_tour_length(instance, solve_tsp_nearest_neighbour(instance))\n",
    "        time_nn = time.monotonic()-time_start\n",
    "        time_start = time.monotonic()\n",
    "        quality_ni = calculate_tour_length(instance, solve_tsp_nearest_insertion(instance))\n",
    "        time_ni = time.monotonic()-time_start\n",
    "        print(' done in {:.2} seconds with tour length {} using NN and in {:.2} seconds with tour length {} using NI'.format(time_nn, int(quality_nn), time_ni, int(quality_ni)))"
   ]
  },
  {
   "cell_type": "code",
   "execution_count": 169,
   "metadata": {
    "collapsed": false,
    "deletable": true,
    "editable": true
   },
   "outputs": [
    {
     "name": "stdout",
     "output_type": "stream",
     "text": [
      "Solving instance tsp-instances/d198.tsp… done in 0.019 seconds with tour length 18830 using NN and in 2.5 seconds with tour length 17587 using NI\n",
      "Solving instance tsp-instances/d493.tsp… done in 0.076 seconds with tour length 44160 using NN and in 3.9e+01 seconds with tour length 39982 using NI\n",
      "Solving instance tsp-instances/d657.tsp… done in 0.15 seconds with tour length 62860 using NN and in 9.3e+01 seconds with tour length 57906 using NI\n",
      "Solving instance tsp-instances/pr107.tsp… done in 0.0048 seconds with tour length 47464 using NN and in 0.39 seconds with tour length 52587 using NI\n",
      "Solving instance tsp-instances/pr152.tsp… done in 0.0084 seconds with tour length 85314 using NN and in 1.1 seconds with tour length 87848 using NI\n",
      "Solving instance tsp-instances/pr439.tsp… done in 0.062 seconds with tour length 131702 using NN and in 2.7e+01 seconds with tour length 130254 using NI\n"
     ]
    }
   ],
   "source": [
    "run_all()"
   ]
  },
  {
   "cell_type": "markdown",
   "metadata": {
    "collapsed": true,
    "deletable": true,
    "editable": true
   },
   "source": [
    "## Выводы\n",
    "(Опишите в 1-2 предложениях свои наблюдения по результатам запусков.)"
   ]
  },
  {
   "cell_type": "markdown",
   "metadata": {},
   "source": [
    "NI чаще работает лучше, но иногда гораздо медленнее."
   ]
  },
  {
   "cell_type": "code",
   "execution_count": null,
   "metadata": {
    "collapsed": true
   },
   "outputs": [],
   "source": []
  }
 ],
 "metadata": {
  "anaconda-cloud": {},
  "kernelspec": {
   "display_name": "Python [default]",
   "language": "python",
   "name": "python3"
  },
  "language_info": {
   "codemirror_mode": {
    "name": "ipython",
    "version": 3
   },
   "file_extension": ".py",
   "mimetype": "text/x-python",
   "name": "python",
   "nbconvert_exporter": "python",
   "pygments_lexer": "ipython3",
   "version": "3.5.2"
  }
 },
 "nbformat": 4,
 "nbformat_minor": 2
}
