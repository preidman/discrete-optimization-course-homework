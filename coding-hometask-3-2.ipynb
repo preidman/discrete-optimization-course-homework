{
 "cells": [
  {
   "cell_type": "markdown",
   "metadata": {
    "collapsed": true
   },
   "source": [
    "## Задача 3-2. Задача TSP: нижняя оценка Гельда—Карпа.\n",
    "\n",
    "В этой задаче Вам предлагается релизовать алгоритм Гельда—Карпа для нижней оценки стоимости решения в задаче Euclidean TSP.\n",
    "\n",
    "Сделайте следующее:\n",
    "* Скачайте файл [`tsp-instances.zip`](https://github.com/dainiak/discrete-optimization-course/raw/master/tsp-instances.zip) и разархивируйте из него файлы со входами задачи TSP. Это в точности те же входные данные, что и в задании 3-1.\n",
    "* Реализуйте функцию `lower_bound_tsp`. При этом можно пользоваться каким-нибудь стандартным алгоритмом построения минимального остовного дерева из библиотеки [`networkx`](https://networkx.github.io/), входящей в состав дистрибутива Anaconda.\n",
    "* Запустите функцию `run_all()`, чтобы протестировать свой код, и напишите полученные, как следствия, верхние оценки погрешностей решений, которые были получены Вашими алгоритмами NN и NI при решении задания 3-1. Запишите свои выводы в 1-2 предложениях в последней ячейке ipynb-файла."
   ]
  },
  {
   "cell_type": "code",
   "execution_count": 23,
   "metadata": {
    "collapsed": true
   },
   "outputs": [],
   "source": [
    "from typing import List, Tuple\n",
    "from math import sqrt\n",
    "from itertools import combinations, islice\n",
    "import numpy as np\n",
    "\n",
    "\n",
    "def read_tsp_instance(filename: str) -> List[Tuple[int,int]]:\n",
    "    with open(filename, 'r') as file:\n",
    "        coordinates = []\n",
    "        for line in file:\n",
    "            line = line.strip().lower()\n",
    "            if line.startswith('dimension'):\n",
    "                coordinates = [(0, 0)] * int(line.split()[-1])\n",
    "            tokens = line.split()\n",
    "            if len(tokens) == 3 and tokens[0].isdecimal():\n",
    "                tokens = line.split()\n",
    "                coordinates[int(tokens[0])-1] = tuple(map(float, tokens[1:]))\n",
    "        return coordinates\n",
    "\n",
    "\n",
    "def euclidean_distance(point1: Tuple[int,int], point2: Tuple[int,int]) -> float:\n",
    "    return sqrt((point1[0]-point2[0]) ** 2 + (point1[1]-point2[1]) ** 2)"
   ]
  },
  {
   "cell_type": "code",
   "execution_count": 24,
   "metadata": {
    "collapsed": true
   },
   "outputs": [],
   "source": [
    "import networkx as nx"
   ]
  },
  {
   "cell_type": "code",
   "execution_count": 35,
   "metadata": {
    "collapsed": true
   },
   "outputs": [],
   "source": [
    "def lower_bound_tsp(vertex_coordinates: List[Tuple[int,int]]) -> float:\n",
    "    \n",
    "    ans = 0\n",
    "    \n",
    "    x = vertex_coordinates\n",
    "    v_c = range(len(x))\n",
    "    I = np.zeros(len(vertex_coordinates), dtype='int64')\n",
    "    \n",
    "    time_start = time.monotonic()\n",
    "    \n",
    "    while time.monotonic() - time_start < 60:\n",
    "        \n",
    "        nw = sum(I) * 2\n",
    "        g = nx.Graph()\n",
    "        \n",
    "        # nodes\n",
    "        g.add_nodes_from(v_c)\n",
    "        \n",
    "        # edges\n",
    "        for a, b in combinations(v_c, 2):\n",
    "            d = I[a] + I[b]\n",
    "            w = euclidean_distance(x[a], x[b]) - d\n",
    "            g.add_edge(a, b, weight=w)\n",
    "        \n",
    "        \n",
    "        min_ostov = nx.minimum_spanning_tree(g)\n",
    "        \n",
    "        bound = nw + min_ostov.size('weight')\n",
    "        if ans < bound:\n",
    "            ans = bound\n",
    "        \n",
    "        tmp = np.zeros(min_ostov.number_of_nodes(), dtype='int64')\n",
    "        \n",
    "        for i in range(len(tmp)):\n",
    "            tmp[i] = 1 - min_ostov.degree(i) + (I[i] + 1)\n",
    "            \n",
    "        I = tmp\n",
    "        \n",
    "        \n",
    "    return ans"
   ]
  },
  {
   "cell_type": "code",
   "execution_count": 36,
   "metadata": {
    "collapsed": true
   },
   "outputs": [],
   "source": [
    "import time\n",
    "from os.path import exists\n",
    "\n",
    "def run_all():\n",
    "    instance_filenames = ['pr107.tsp', 'pr152.tsp', 'd198.tsp', 'pr439.tsp', 'd493.tsp', 'd657.tsp', 'd2103.tsp']\n",
    "    for x in instance_filenames:\n",
    "        filename = 'tsp-instances/' + x\n",
    "        if not exists(filename):\n",
    "            print('File not found: “{}”. Skipping this instance.'.format(filename))\n",
    "            continue\n",
    "        instance = read_tsp_instance(filename)\n",
    "        print('Instance {}…'.format(filename), end='')\n",
    "        time_start = time.monotonic()\n",
    "        bound = lower_bound_tsp(instance)\n",
    "        time_nn = time.monotonic()-time_start\n",
    "        print(' done in {:.2} seconds with lower bound {}'.format(time_nn, int(bound)))"
   ]
  },
  {
   "cell_type": "code",
   "execution_count": 37,
   "metadata": {
    "collapsed": false
   },
   "outputs": [
    {
     "name": "stdout",
     "output_type": "stream",
     "text": [
      "Instance tsp-instances/pr107.tsp… done in 6e+01 seconds with lower bound 37492\n",
      "Instance tsp-instances/pr152.tsp… done in 6e+01 seconds with lower bound 63182\n",
      "Instance tsp-instances/d198.tsp… done in 6e+01 seconds with lower bound 13086\n",
      "Instance tsp-instances/pr439.tsp… done in 6e+01 seconds with lower bound 95885\n",
      "Instance tsp-instances/d493.tsp… done in 6e+01 seconds with lower bound 31567\n",
      "Instance tsp-instances/d657.tsp… done in 6.1e+01 seconds with lower bound 45270\n",
      "Instance tsp-instances/d2103.tsp… done in 8.1e+01 seconds with lower bound 76402\n"
     ]
    }
   ],
   "source": [
    "run_all()"
   ]
  },
  {
   "cell_type": "code",
   "execution_count": 49,
   "metadata": {
    "collapsed": false
   },
   "outputs": [
    {
     "name": "stdout",
     "output_type": "stream",
     "text": [
      "d198.tsp      18830  NN with error(1.5)       17587  NI with error(1.36)\n",
      "d493.tsp      44160  NN with error(1.41)      39982  NI with error(1.35)\n",
      "d657.tsp      62860  NN with error(1.4)       57906  NI with error(1.3)\n",
      "pr107.tsp     47464  NN with error(1.33)      52587  NI with error(1.24)\n",
      "pr152.tsp     85314  NN with error(1.43)      87848  NI with error(1.29)\n",
      "pr439.tsp     131702 NN with error(1.41)      130254 NI with error(1.4)\n",
      "pr103.tsp     91411  NN with error(1.2)       103887 NI with error(1.24)\n"
     ]
    }
   ],
   "source": [
    "print('d198.tsp      18830  NN with error(1.5)       17587  NI with error(1.36)')\n",
    "print('d493.tsp      44160  NN with error(1.41)      39982  NI with error(1.35)')\n",
    "print('d657.tsp      62860  NN with error(1.4)       57906  NI with error(1.3)')\n",
    "print('pr107.tsp     47464  NN with error(1.33)      52587  NI with error(1.24)')\n",
    "print('pr152.tsp     85314  NN with error(1.43)      87848  NI with error(1.29)')\n",
    "print('pr439.tsp     131702 NN with error(1.41)      130254 NI with error(1.4)')\n",
    "print('pr103.tsp     91411  NN with error(1.2)       103887 NI with error(1.24)')"
   ]
  },
  {
   "cell_type": "markdown",
   "metadata": {},
   "source": [
    "## Выводы\n",
    "Видим, что погрешность достаточно мала."
   ]
  },
  {
   "cell_type": "code",
   "execution_count": null,
   "metadata": {
    "collapsed": true
   },
   "outputs": [],
   "source": []
  }
 ],
 "metadata": {
  "anaconda-cloud": {},
  "kernelspec": {
   "display_name": "Python [default]",
   "language": "python",
   "name": "python3"
  },
  "language_info": {
   "codemirror_mode": {
    "name": "ipython",
    "version": 3
   },
   "file_extension": ".py",
   "mimetype": "text/x-python",
   "name": "python",
   "nbconvert_exporter": "python",
   "pygments_lexer": "ipython3",
   "version": "3.5.2"
  }
 },
 "nbformat": 4,
 "nbformat_minor": 1
}
