{
 "cells": [
  {
   "cell_type": "markdown",
   "metadata": {},
   "source": [
    "## Задача 4-1. Линейное программирование: формулирование задачи.\n",
    "\n",
    "В этой задаче Вам предлагается закодировать задачу TSP для заданного графа в виде задачи ЦЛП с помощью условий MTZ (Миллера—Таккера—Землина) и поработать с библиотекой [PuLP](https://pypi.python.org/pypi/PuLP/1.6.5). Если Вы используете дистрибутив Anaconda, то эта библиотека не находится утилитой conda, зато совершенно нормально устанавливается с помощью pip:\n",
    "\n",
    "`pip install pulp`\n",
    "\n",
    "Вам дана функция `dist15`, которая по двум номерам вершин возвращает вес ребра между ними. Номера от 1 до 15, пример взят [отсюда](https://people.sc.fsu.edu/~jburkardt/datasets/tsp/tsp.html).\n",
    "Нужно построить соответствующую задачу ЦЛП и решить её средствами PuLP, чтобы найти оптимальный гамильтонов цикл в графе. Сделать это следует в функции `solve_tsp_with_lp`, которая получает на вход размерность задачи и весовую функцию, а на выходе даёт перестановку номеров вершин графа (нумеруемых с единицы), соответствующую оптимальному гамильтонову циклу."
   ]
  },
  {
   "cell_type": "code",
   "execution_count": 41,
   "metadata": {
    "collapsed": true
   },
   "outputs": [],
   "source": [
    "from pulp import LpVariable, LpProblem, LpConstraint, LpMaximize, LpMinimize, lpSum"
   ]
  },
  {
   "cell_type": "code",
   "execution_count": 42,
   "metadata": {
    "collapsed": true
   },
   "outputs": [],
   "source": [
    "def dist15(i: int, j: int) -> int:\n",
    "    return (\n",
    "        list(\n",
    "            map(\n",
    "                int, \n",
    "                filter(\n",
    "                    lambda s: len(s.strip()) > 0, '''\n",
    "                    0 29 82 46 68 52 72 42 51 55 29 74 23 72 46 \n",
    "                    29  0 55 46 42 43 43 23 23 31 41 51 11 52 21 \n",
    "                    82 55  0 68 46 55 23 43 41 29 79 21 64 31 51 \n",
    "                    46 46 68  0 82 15 72 31 62 42 21 51 51 43 64 \n",
    "                    68 42 46 82  0 74 23 52 21 46 82 58 46 65 23 \n",
    "                    52 43 55 15 74  0 61 23 55 31 33 37 51 29 59 \n",
    "                    72 43 23 72 23 61  0 42 23 31 77 37 51 46 33 \n",
    "                    42 23 43 31 52 23 42  0 33 15 37 33 33 31 37 \n",
    "                    51 23 41 62 21 55 23 33  0 29 62 46 29 51 11 \n",
    "                    55 31 29 42 46 31 31 15 29  0 51 21 41 23 37 \n",
    "                    29 41 79 21 82 33 77 37 62 51  0 65 42 59 61 \n",
    "                    74 51 21 51 58 37 37 33 46 21 65  0 61 11 55 \n",
    "                    23 11 64 51 46 51 51 33 29 41 42 61  0 62 23 \n",
    "                    72 52 31 43 65 29 46 31 51 23 59 11 62  0 59 \n",
    "                    46 21 51 64 23 59 33 37 11 37 61 55 23 59  0\n",
    "                    '''.split()\n",
    "                )\n",
    "            )\n",
    "        )[(i-1) * 15 + (j-1)]\n",
    "    )"
   ]
  },
  {
   "cell_type": "code",
   "execution_count": 43,
   "metadata": {
    "collapsed": true
   },
   "outputs": [],
   "source": [
    "from typing import List, Callable"
   ]
  },
  {
   "cell_type": "code",
   "execution_count": 68,
   "metadata": {
    "collapsed": false
   },
   "outputs": [
    {
     "name": "stdout",
     "output_type": "stream",
     "text": [
      "291.0\n",
      "1 ⟶ 11 ⟶ 4 ⟶ 6 ⟶ 8 ⟶ 10 ⟶ 14 ⟶ 12 ⟶ 3 ⟶ 7 ⟶ 5 ⟶ 9 ⟶ 15 ⟶ 2 ⟶ 13 ⟶ 1\n"
     ]
    }
   ],
   "source": [
    "def solve_tsp_with_lp(num_vertices: int, distance_function: Callable[[int, int], int]) -> List[int]:\n",
    "    \n",
    "    lp = LpProblem(name='TSProblem with MTZ', sense=LpMinimize)\n",
    "    \n",
    "    edges = [(i, j) for i in range(num_vertices) \n",
    "             for j in range(num_vertices) if (i != j)]\n",
    "    \n",
    "    e_ind = []\n",
    "    for i in range(num_vertices):\n",
    "        e_ind.append([])\n",
    "        for j in range(num_vertices):\n",
    "            e_ind[i].append(LpVariable(name='{} {}'.format(i, j), lowBound=0, upBound=1, cat='Integer'))\n",
    "    \n",
    "    \n",
    "                            \n",
    "    #                             \n",
    "                                \n",
    "    lp.objective = lpSum(e_ind[i][j] * distance_function(i+1, j+1) for i, j in edges)\n",
    "    \n",
    "    for i in range(num_vertices):\n",
    "        lp += (lpSum(e_ind[i][j] for j in range(num_vertices)) == 1)\n",
    "        lp += (lpSum(e_ind[j][i] for j in range(num_vertices)) == 1)\n",
    "        \n",
    "        lp += (e_ind[i][i] == 0)\n",
    "    \n",
    "    \n",
    "    u = [LpVariable(name='u{}'.format(i), lowBound=0, upBound=num_vertices, cat='Integer') for i in range(num_vertices)]\n",
    "        \n",
    "    for i, j in edges:\n",
    "        if i != 1:\n",
    "            lp += (u[i] - u[j] + num_vertices * e_ind[i][j] <= num_vertices - 1)\n",
    "            \n",
    "    lp_status = lp.solve()\n",
    "    \n",
    "    res = []\n",
    "    res.append(1)\n",
    "    \n",
    "    \n",
    "        \n",
    "    tmp = 0\n",
    "    for i in range(num_vertices):\n",
    "        for j in range(num_vertices):\n",
    "            if e_ind[tmp][j].value() == 1:\n",
    "                tmp = j\n",
    "                break\n",
    "        res.append(tmp + 1)    \n",
    "            \n",
    "          \n",
    "              \n",
    "    \n",
    "    print(lp.objective.value())\n",
    "    return res\n",
    "\n",
    "print(' ⟶ '.join(map(str, solve_tsp_with_lp(15, dist15))))"
   ]
  }
 ],
 "metadata": {
  "anaconda-cloud": {},
  "kernelspec": {
   "display_name": "Python [default]",
   "language": "python",
   "name": "python3"
  },
  "language_info": {
   "codemirror_mode": {
    "name": "ipython",
    "version": 3
   },
   "file_extension": ".py",
   "mimetype": "text/x-python",
   "name": "python",
   "nbconvert_exporter": "python",
   "pygments_lexer": "ipython3",
   "version": "3.5.2"
  }
 },
 "nbformat": 4,
 "nbformat_minor": 0
}
